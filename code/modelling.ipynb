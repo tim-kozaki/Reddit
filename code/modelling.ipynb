{
 "cells": [
  {
   "cell_type": "markdown",
   "id": "4fa5770e",
   "metadata": {},
   "source": [
    "# Data Preparation and Modelling"
   ]
  },
  {
   "cell_type": "markdown",
   "id": "069fef2a",
   "metadata": {},
   "source": [
    "### Import libraries"
   ]
  },
  {
   "cell_type": "code",
   "execution_count": 1,
   "id": "84437a37",
   "metadata": {},
   "outputs": [],
   "source": [
    "#Import libraries\n",
    "import pandas as pd\n",
    "import numpy as np\n",
    "import matplotlib.pyplot as plt\n",
    "\n",
    "import nltk\n",
    "from nltk.tokenize import RegexpTokenizer\n",
    "from nltk.corpus import stopwords\n",
    "\n",
    "from sklearn.ensemble import RandomForestClassifier\n",
    "from sklearn.model_selection import cross_val_score, train_test_split, GridSearchCV\n",
    "from sklearn.pipeline import Pipeline\n",
    "from sklearn.naive_bayes import BernoulliNB, GaussianNB, MultinomialNB\n",
    "from sklearn.feature_extraction.text import CountVectorizer\n",
    "from sklearn.metrics import confusion_matrix, plot_confusion_matrix, accuracy_score\n",
    "\n",
    "from sklearn.linear_model import LogisticRegression\n",
    "\n",
    "from sklearn.metrics import roc_curve\n",
    "from sklearn.metrics import roc_auc_score\n",
    "from sklearn import metrics\n",
    "\n",
    "import seaborn as sns\n",
    "sns.set(style=\"dark\")"
   ]
  },
  {
   "cell_type": "markdown",
   "id": "4bc719d2",
   "metadata": {},
   "source": [
    "### Load dataframes"
   ]
  },
  {
   "cell_type": "code",
   "execution_count": 2,
   "id": "8d89d972",
   "metadata": {},
   "outputs": [
    {
     "data": {
      "text/html": [
       "<div>\n",
       "<style scoped>\n",
       "    .dataframe tbody tr th:only-of-type {\n",
       "        vertical-align: middle;\n",
       "    }\n",
       "\n",
       "    .dataframe tbody tr th {\n",
       "        vertical-align: top;\n",
       "    }\n",
       "\n",
       "    .dataframe thead th {\n",
       "        text-align: right;\n",
       "    }\n",
       "</style>\n",
       "<table border=\"1\" class=\"dataframe\">\n",
       "  <thead>\n",
       "    <tr style=\"text-align: right;\">\n",
       "      <th></th>\n",
       "      <th>subreddit</th>\n",
       "      <th>title</th>\n",
       "    </tr>\n",
       "  </thead>\n",
       "  <tbody>\n",
       "    <tr>\n",
       "      <th>0</th>\n",
       "      <td>Genshin_Impact</td>\n",
       "      <td>Speed runner be like : mihoyo, we want sumeru ...</td>\n",
       "    </tr>\n",
       "    <tr>\n",
       "      <th>1</th>\n",
       "      <td>Genshin_Impact</td>\n",
       "      <td>Somehow got c2 Raiden and Kujo in like 50-60 p...</td>\n",
       "    </tr>\n",
       "    <tr>\n",
       "      <th>2</th>\n",
       "      <td>Genshin_Impact</td>\n",
       "      <td>Go back to the big statue after main story sto...</td>\n",
       "    </tr>\n",
       "    <tr>\n",
       "      <th>3</th>\n",
       "      <td>Genshin_Impact</td>\n",
       "      <td>What is with this game’s story?</td>\n",
       "    </tr>\n",
       "    <tr>\n",
       "      <th>4</th>\n",
       "      <td>Genshin_Impact</td>\n",
       "      <td>Summer Ayaka</td>\n",
       "    </tr>\n",
       "  </tbody>\n",
       "</table>\n",
       "</div>"
      ],
      "text/plain": [
       "        subreddit                                              title\n",
       "0  Genshin_Impact  Speed runner be like : mihoyo, we want sumeru ...\n",
       "1  Genshin_Impact  Somehow got c2 Raiden and Kujo in like 50-60 p...\n",
       "2  Genshin_Impact  Go back to the big statue after main story sto...\n",
       "3  Genshin_Impact                    What is with this game’s story?\n",
       "4  Genshin_Impact                                       Summer Ayaka"
      ]
     },
     "execution_count": 2,
     "metadata": {},
     "output_type": "execute_result"
    }
   ],
   "source": [
    "# Read genshin_impact.csv into a dataframe\n",
    "df_gi = pd.read_csv('../data/genshin_impact.csv')\n",
    "df_gi = df_gi[['subreddit', 'title']]\n",
    "df_gi.head()"
   ]
  },
  {
   "cell_type": "code",
   "execution_count": 3,
   "id": "b96a0c02",
   "metadata": {},
   "outputs": [
    {
     "name": "stdout",
     "output_type": "stream",
     "text": [
      "<class 'pandas.core.frame.DataFrame'>\n",
      "RangeIndex: 1100 entries, 0 to 1099\n",
      "Data columns (total 2 columns):\n",
      " #   Column     Non-Null Count  Dtype \n",
      "---  ------     --------------  ----- \n",
      " 0   subreddit  1100 non-null   object\n",
      " 1   title      1100 non-null   object\n",
      "dtypes: object(2)\n",
      "memory usage: 17.3+ KB\n"
     ]
    }
   ],
   "source": [
    "df_gi.info()"
   ]
  },
  {
   "cell_type": "code",
   "execution_count": 4,
   "id": "1525b362",
   "metadata": {},
   "outputs": [
    {
     "data": {
      "text/plain": [
       "subreddit    0\n",
       "title        0\n",
       "dtype: int64"
      ]
     },
     "execution_count": 4,
     "metadata": {},
     "output_type": "execute_result"
    }
   ],
   "source": [
    "# Check for null values\n",
    "df_gi.isnull().sum()"
   ]
  },
  {
   "cell_type": "code",
   "execution_count": 5,
   "id": "735ef727",
   "metadata": {},
   "outputs": [
    {
     "data": {
      "text/html": [
       "<div>\n",
       "<style scoped>\n",
       "    .dataframe tbody tr th:only-of-type {\n",
       "        vertical-align: middle;\n",
       "    }\n",
       "\n",
       "    .dataframe tbody tr th {\n",
       "        vertical-align: top;\n",
       "    }\n",
       "\n",
       "    .dataframe thead th {\n",
       "        text-align: right;\n",
       "    }\n",
       "</style>\n",
       "<table border=\"1\" class=\"dataframe\">\n",
       "  <thead>\n",
       "    <tr style=\"text-align: right;\">\n",
       "      <th></th>\n",
       "      <th>subreddit</th>\n",
       "      <th>title</th>\n",
       "    </tr>\n",
       "  </thead>\n",
       "  <tbody>\n",
       "    <tr>\n",
       "      <th>0</th>\n",
       "      <td>honkaiimpact3</td>\n",
       "      <td>Elf Sirin didn’t get to finish her ultimate 🙃</td>\n",
       "    </tr>\n",
       "    <tr>\n",
       "      <th>1</th>\n",
       "      <td>honkaiimpact3</td>\n",
       "      <td>Read this if you Want to See yandere mei or ot...</td>\n",
       "    </tr>\n",
       "    <tr>\n",
       "      <th>2</th>\n",
       "      <td>honkaiimpact3</td>\n",
       "      <td>What the easiest way to get money ?</td>\n",
       "    </tr>\n",
       "    <tr>\n",
       "      <th>3</th>\n",
       "      <td>honkaiimpact3</td>\n",
       "      <td>Should I use it for hoF? I only have (T) himeko</td>\n",
       "    </tr>\n",
       "    <tr>\n",
       "      <th>4</th>\n",
       "      <td>honkaiimpact3</td>\n",
       "      <td>Who should I go for?</td>\n",
       "    </tr>\n",
       "  </tbody>\n",
       "</table>\n",
       "</div>"
      ],
      "text/plain": [
       "       subreddit                                              title\n",
       "0  honkaiimpact3      Elf Sirin didn’t get to finish her ultimate 🙃\n",
       "1  honkaiimpact3  Read this if you Want to See yandere mei or ot...\n",
       "2  honkaiimpact3                What the easiest way to get money ?\n",
       "3  honkaiimpact3    Should I use it for hoF? I only have (T) himeko\n",
       "4  honkaiimpact3                               Who should I go for?"
      ]
     },
     "execution_count": 5,
     "metadata": {},
     "output_type": "execute_result"
    }
   ],
   "source": [
    "# Read honkaiimpact3.csv into a dataframe\n",
    "df_hi = pd.read_csv('../data/honkaiimpact3.csv')\n",
    "df_hi = df_hi[['subreddit', 'title']]\n",
    "df_hi.head()"
   ]
  },
  {
   "cell_type": "code",
   "execution_count": 6,
   "id": "b83c2fdc",
   "metadata": {},
   "outputs": [
    {
     "name": "stdout",
     "output_type": "stream",
     "text": [
      "<class 'pandas.core.frame.DataFrame'>\n",
      "RangeIndex: 1100 entries, 0 to 1099\n",
      "Data columns (total 2 columns):\n",
      " #   Column     Non-Null Count  Dtype \n",
      "---  ------     --------------  ----- \n",
      " 0   subreddit  1100 non-null   object\n",
      " 1   title      1100 non-null   object\n",
      "dtypes: object(2)\n",
      "memory usage: 17.3+ KB\n"
     ]
    }
   ],
   "source": [
    "df_hi.info()"
   ]
  },
  {
   "cell_type": "code",
   "execution_count": 7,
   "id": "95cd8197",
   "metadata": {},
   "outputs": [
    {
     "data": {
      "text/plain": [
       "subreddit    0\n",
       "title        0\n",
       "dtype: int64"
      ]
     },
     "execution_count": 7,
     "metadata": {},
     "output_type": "execute_result"
    }
   ],
   "source": [
    "# Check for null values\n",
    "df_hi.isnull().sum()"
   ]
  },
  {
   "cell_type": "code",
   "execution_count": 8,
   "id": "a3bb9fdd",
   "metadata": {},
   "outputs": [
    {
     "data": {
      "text/html": [
       "<div>\n",
       "<style scoped>\n",
       "    .dataframe tbody tr th:only-of-type {\n",
       "        vertical-align: middle;\n",
       "    }\n",
       "\n",
       "    .dataframe tbody tr th {\n",
       "        vertical-align: top;\n",
       "    }\n",
       "\n",
       "    .dataframe thead th {\n",
       "        text-align: right;\n",
       "    }\n",
       "</style>\n",
       "<table border=\"1\" class=\"dataframe\">\n",
       "  <thead>\n",
       "    <tr style=\"text-align: right;\">\n",
       "      <th></th>\n",
       "      <th>subreddit</th>\n",
       "      <th>title</th>\n",
       "    </tr>\n",
       "  </thead>\n",
       "  <tbody>\n",
       "    <tr>\n",
       "      <th>0</th>\n",
       "      <td>Genshin_Impact</td>\n",
       "      <td>Speed runner be like : mihoyo, we want sumeru ...</td>\n",
       "    </tr>\n",
       "    <tr>\n",
       "      <th>1</th>\n",
       "      <td>Genshin_Impact</td>\n",
       "      <td>Somehow got c2 Raiden and Kujo in like 50-60 p...</td>\n",
       "    </tr>\n",
       "    <tr>\n",
       "      <th>2</th>\n",
       "      <td>Genshin_Impact</td>\n",
       "      <td>Go back to the big statue after main story sto...</td>\n",
       "    </tr>\n",
       "    <tr>\n",
       "      <th>3</th>\n",
       "      <td>Genshin_Impact</td>\n",
       "      <td>What is with this game’s story?</td>\n",
       "    </tr>\n",
       "    <tr>\n",
       "      <th>4</th>\n",
       "      <td>Genshin_Impact</td>\n",
       "      <td>Summer Ayaka</td>\n",
       "    </tr>\n",
       "  </tbody>\n",
       "</table>\n",
       "</div>"
      ],
      "text/plain": [
       "        subreddit                                              title\n",
       "0  Genshin_Impact  Speed runner be like : mihoyo, we want sumeru ...\n",
       "1  Genshin_Impact  Somehow got c2 Raiden and Kujo in like 50-60 p...\n",
       "2  Genshin_Impact  Go back to the big statue after main story sto...\n",
       "3  Genshin_Impact                    What is with this game’s story?\n",
       "4  Genshin_Impact                                       Summer Ayaka"
      ]
     },
     "execution_count": 8,
     "metadata": {},
     "output_type": "execute_result"
    }
   ],
   "source": [
    "# Combine dataframes\n",
    "df_full = pd.concat([df_gi, df_hi], ignore_index=True, sort=False)\n",
    "df_full.head()"
   ]
  },
  {
   "cell_type": "code",
   "execution_count": 9,
   "id": "87959f5b",
   "metadata": {},
   "outputs": [
    {
     "data": {
      "text/html": [
       "<div>\n",
       "<style scoped>\n",
       "    .dataframe tbody tr th:only-of-type {\n",
       "        vertical-align: middle;\n",
       "    }\n",
       "\n",
       "    .dataframe tbody tr th {\n",
       "        vertical-align: top;\n",
       "    }\n",
       "\n",
       "    .dataframe thead th {\n",
       "        text-align: right;\n",
       "    }\n",
       "</style>\n",
       "<table border=\"1\" class=\"dataframe\">\n",
       "  <thead>\n",
       "    <tr style=\"text-align: right;\">\n",
       "      <th></th>\n",
       "      <th>subreddit</th>\n",
       "      <th>title</th>\n",
       "      <th>tokens</th>\n",
       "      <th>sentence</th>\n",
       "    </tr>\n",
       "  </thead>\n",
       "  <tbody>\n",
       "    <tr>\n",
       "      <th>0</th>\n",
       "      <td>Genshin_Impact</td>\n",
       "      <td>Speed runner be like : mihoyo, we want sumeru ...</td>\n",
       "      <td>[Speed, runner, be, like, mihoyo, we, want, su...</td>\n",
       "      <td>Speed runner be like mihoyo we want sumeru now</td>\n",
       "    </tr>\n",
       "    <tr>\n",
       "      <th>1</th>\n",
       "      <td>Genshin_Impact</td>\n",
       "      <td>Somehow got c2 Raiden and Kujo in like 50-60 p...</td>\n",
       "      <td>[Somehow, got, c2, Raiden, and, Kujo, in, like...</td>\n",
       "      <td>Somehow got c2 Raiden and Kujo in like 50 60 ...</td>\n",
       "    </tr>\n",
       "    <tr>\n",
       "      <th>2</th>\n",
       "      <td>Genshin_Impact</td>\n",
       "      <td>Go back to the big statue after main story sto...</td>\n",
       "      <td>[Go, back, to, the, big, statue, after, main, ...</td>\n",
       "      <td>Go back to the big statue after main story st...</td>\n",
       "    </tr>\n",
       "    <tr>\n",
       "      <th>3</th>\n",
       "      <td>Genshin_Impact</td>\n",
       "      <td>What is with this game’s story?</td>\n",
       "      <td>[What, is, with, this, game, s, story]</td>\n",
       "      <td>What is with this game s story</td>\n",
       "    </tr>\n",
       "    <tr>\n",
       "      <th>4</th>\n",
       "      <td>Genshin_Impact</td>\n",
       "      <td>Summer Ayaka</td>\n",
       "      <td>[Summer, Ayaka]</td>\n",
       "      <td>Summer Ayaka</td>\n",
       "    </tr>\n",
       "    <tr>\n",
       "      <th>...</th>\n",
       "      <td>...</td>\n",
       "      <td>...</td>\n",
       "      <td>...</td>\n",
       "      <td>...</td>\n",
       "    </tr>\n",
       "    <tr>\n",
       "      <th>2195</th>\n",
       "      <td>honkaiimpact3</td>\n",
       "      <td>Miss Pink Fairy</td>\n",
       "      <td>[Miss, Pink, Fairy]</td>\n",
       "      <td>Miss Pink Fairy</td>\n",
       "    </tr>\n",
       "    <tr>\n",
       "      <th>2196</th>\n",
       "      <td>honkaiimpact3</td>\n",
       "      <td>Pain. I blew everything i had on her. Got her ...</td>\n",
       "      <td>[Pain, I, blew, everything, i, had, on, her, G...</td>\n",
       "      <td>Pain I blew everything i had on her Got her a...</td>\n",
       "    </tr>\n",
       "    <tr>\n",
       "      <th>2197</th>\n",
       "      <td>honkaiimpact3</td>\n",
       "      <td>Miss Pink Fairy</td>\n",
       "      <td>[Miss, Pink, Fairy]</td>\n",
       "      <td>Miss Pink Fairy</td>\n",
       "    </tr>\n",
       "    <tr>\n",
       "      <th>2198</th>\n",
       "      <td>honkaiimpact3</td>\n",
       "      <td>Do you think i can level up from lvl 63(halfwa...</td>\n",
       "      <td>[Do, you, think, i, can, level, up, from, lvl,...</td>\n",
       "      <td>Do you think i can level up from lvl 63 halfw...</td>\n",
       "    </tr>\n",
       "    <tr>\n",
       "      <th>2199</th>\n",
       "      <td>honkaiimpact3</td>\n",
       "      <td>Please help a fellow captain out!</td>\n",
       "      <td>[Please, help, a, fellow, captain, out]</td>\n",
       "      <td>Please help a fellow captain out</td>\n",
       "    </tr>\n",
       "  </tbody>\n",
       "</table>\n",
       "<p>2200 rows × 4 columns</p>\n",
       "</div>"
      ],
      "text/plain": [
       "           subreddit                                              title  \\\n",
       "0     Genshin_Impact  Speed runner be like : mihoyo, we want sumeru ...   \n",
       "1     Genshin_Impact  Somehow got c2 Raiden and Kujo in like 50-60 p...   \n",
       "2     Genshin_Impact  Go back to the big statue after main story sto...   \n",
       "3     Genshin_Impact                    What is with this game’s story?   \n",
       "4     Genshin_Impact                                       Summer Ayaka   \n",
       "...              ...                                                ...   \n",
       "2195   honkaiimpact3                                    Miss Pink Fairy   \n",
       "2196   honkaiimpact3  Pain. I blew everything i had on her. Got her ...   \n",
       "2197   honkaiimpact3                                    Miss Pink Fairy   \n",
       "2198   honkaiimpact3  Do you think i can level up from lvl 63(halfwa...   \n",
       "2199   honkaiimpact3                  Please help a fellow captain out!   \n",
       "\n",
       "                                                 tokens  \\\n",
       "0     [Speed, runner, be, like, mihoyo, we, want, su...   \n",
       "1     [Somehow, got, c2, Raiden, and, Kujo, in, like...   \n",
       "2     [Go, back, to, the, big, statue, after, main, ...   \n",
       "3                [What, is, with, this, game, s, story]   \n",
       "4                                       [Summer, Ayaka]   \n",
       "...                                                 ...   \n",
       "2195                                [Miss, Pink, Fairy]   \n",
       "2196  [Pain, I, blew, everything, i, had, on, her, G...   \n",
       "2197                                [Miss, Pink, Fairy]   \n",
       "2198  [Do, you, think, i, can, level, up, from, lvl,...   \n",
       "2199            [Please, help, a, fellow, captain, out]   \n",
       "\n",
       "                                               sentence  \n",
       "0        Speed runner be like mihoyo we want sumeru now  \n",
       "1      Somehow got c2 Raiden and Kujo in like 50 60 ...  \n",
       "2      Go back to the big statue after main story st...  \n",
       "3                        What is with this game s story  \n",
       "4                                          Summer Ayaka  \n",
       "...                                                 ...  \n",
       "2195                                    Miss Pink Fairy  \n",
       "2196   Pain I blew everything i had on her Got her a...  \n",
       "2197                                    Miss Pink Fairy  \n",
       "2198   Do you think i can level up from lvl 63 halfw...  \n",
       "2199                   Please help a fellow captain out  \n",
       "\n",
       "[2200 rows x 4 columns]"
      ]
     },
     "execution_count": 9,
     "metadata": {},
     "output_type": "execute_result"
    }
   ],
   "source": [
    "df_full['tokens'] = \"\"\n",
    "df_full['sentence'] = \"\"\n",
    "\n",
    "tokenizer = nltk.RegexpTokenizer(\"\\w+\")\n",
    "\n",
    "for i in range(len(df_full['title'])):\n",
    "    df_full.tokens[i] = tokenizer.tokenize(df_full.title[i])\n",
    "    str1 = \"\"\n",
    "    \n",
    "    for n in df_full.tokens[i]:\n",
    "        str1 = str1 + \" \" + n\n",
    "    \n",
    "    df_full.sentence[i] = str1\n",
    "\n",
    "df_full"
   ]
  },
  {
   "cell_type": "code",
   "execution_count": 10,
   "id": "6750a394",
   "metadata": {},
   "outputs": [
    {
     "data": {
      "text/html": [
       "<div>\n",
       "<style scoped>\n",
       "    .dataframe tbody tr th:only-of-type {\n",
       "        vertical-align: middle;\n",
       "    }\n",
       "\n",
       "    .dataframe tbody tr th {\n",
       "        vertical-align: top;\n",
       "    }\n",
       "\n",
       "    .dataframe thead th {\n",
       "        text-align: right;\n",
       "    }\n",
       "</style>\n",
       "<table border=\"1\" class=\"dataframe\">\n",
       "  <thead>\n",
       "    <tr style=\"text-align: right;\">\n",
       "      <th></th>\n",
       "      <th>subreddit</th>\n",
       "      <th>tokens</th>\n",
       "      <th>title</th>\n",
       "    </tr>\n",
       "  </thead>\n",
       "  <tbody>\n",
       "    <tr>\n",
       "      <th>0</th>\n",
       "      <td>Genshin_Impact</td>\n",
       "      <td>[Speed, runner, be, like, mihoyo, we, want, su...</td>\n",
       "      <td>Speed runner be like mihoyo we want sumeru now</td>\n",
       "    </tr>\n",
       "    <tr>\n",
       "      <th>1</th>\n",
       "      <td>Genshin_Impact</td>\n",
       "      <td>[Somehow, got, c2, Raiden, and, Kujo, in, like...</td>\n",
       "      <td>Somehow got c2 Raiden and Kujo in like 50 60 ...</td>\n",
       "    </tr>\n",
       "    <tr>\n",
       "      <th>2</th>\n",
       "      <td>Genshin_Impact</td>\n",
       "      <td>[Go, back, to, the, big, statue, after, main, ...</td>\n",
       "      <td>Go back to the big statue after main story st...</td>\n",
       "    </tr>\n",
       "    <tr>\n",
       "      <th>3</th>\n",
       "      <td>Genshin_Impact</td>\n",
       "      <td>[What, is, with, this, game, s, story]</td>\n",
       "      <td>What is with this game s story</td>\n",
       "    </tr>\n",
       "    <tr>\n",
       "      <th>4</th>\n",
       "      <td>Genshin_Impact</td>\n",
       "      <td>[Summer, Ayaka]</td>\n",
       "      <td>Summer Ayaka</td>\n",
       "    </tr>\n",
       "    <tr>\n",
       "      <th>...</th>\n",
       "      <td>...</td>\n",
       "      <td>...</td>\n",
       "      <td>...</td>\n",
       "    </tr>\n",
       "    <tr>\n",
       "      <th>2195</th>\n",
       "      <td>honkaiimpact3</td>\n",
       "      <td>[Miss, Pink, Fairy]</td>\n",
       "      <td>Miss Pink Fairy</td>\n",
       "    </tr>\n",
       "    <tr>\n",
       "      <th>2196</th>\n",
       "      <td>honkaiimpact3</td>\n",
       "      <td>[Pain, I, blew, everything, i, had, on, her, G...</td>\n",
       "      <td>Pain I blew everything i had on her Got her a...</td>\n",
       "    </tr>\n",
       "    <tr>\n",
       "      <th>2197</th>\n",
       "      <td>honkaiimpact3</td>\n",
       "      <td>[Miss, Pink, Fairy]</td>\n",
       "      <td>Miss Pink Fairy</td>\n",
       "    </tr>\n",
       "    <tr>\n",
       "      <th>2198</th>\n",
       "      <td>honkaiimpact3</td>\n",
       "      <td>[Do, you, think, i, can, level, up, from, lvl,...</td>\n",
       "      <td>Do you think i can level up from lvl 63 halfw...</td>\n",
       "    </tr>\n",
       "    <tr>\n",
       "      <th>2199</th>\n",
       "      <td>honkaiimpact3</td>\n",
       "      <td>[Please, help, a, fellow, captain, out]</td>\n",
       "      <td>Please help a fellow captain out</td>\n",
       "    </tr>\n",
       "  </tbody>\n",
       "</table>\n",
       "<p>2200 rows × 3 columns</p>\n",
       "</div>"
      ],
      "text/plain": [
       "           subreddit                                             tokens  \\\n",
       "0     Genshin_Impact  [Speed, runner, be, like, mihoyo, we, want, su...   \n",
       "1     Genshin_Impact  [Somehow, got, c2, Raiden, and, Kujo, in, like...   \n",
       "2     Genshin_Impact  [Go, back, to, the, big, statue, after, main, ...   \n",
       "3     Genshin_Impact             [What, is, with, this, game, s, story]   \n",
       "4     Genshin_Impact                                    [Summer, Ayaka]   \n",
       "...              ...                                                ...   \n",
       "2195   honkaiimpact3                                [Miss, Pink, Fairy]   \n",
       "2196   honkaiimpact3  [Pain, I, blew, everything, i, had, on, her, G...   \n",
       "2197   honkaiimpact3                                [Miss, Pink, Fairy]   \n",
       "2198   honkaiimpact3  [Do, you, think, i, can, level, up, from, lvl,...   \n",
       "2199   honkaiimpact3            [Please, help, a, fellow, captain, out]   \n",
       "\n",
       "                                                  title  \n",
       "0        Speed runner be like mihoyo we want sumeru now  \n",
       "1      Somehow got c2 Raiden and Kujo in like 50 60 ...  \n",
       "2      Go back to the big statue after main story st...  \n",
       "3                        What is with this game s story  \n",
       "4                                          Summer Ayaka  \n",
       "...                                                 ...  \n",
       "2195                                    Miss Pink Fairy  \n",
       "2196   Pain I blew everything i had on her Got her a...  \n",
       "2197                                    Miss Pink Fairy  \n",
       "2198   Do you think i can level up from lvl 63 halfw...  \n",
       "2199                   Please help a fellow captain out  \n",
       "\n",
       "[2200 rows x 3 columns]"
      ]
     },
     "execution_count": 10,
     "metadata": {},
     "output_type": "execute_result"
    }
   ],
   "source": [
    "# Replace 'title' with new 'word' column\n",
    "df_full.drop(columns='title', inplace=True)\n",
    "df_full.rename(columns={'sentence':'title'}, inplace=True)\n",
    "\n",
    "df_full"
   ]
  },
  {
   "cell_type": "code",
   "execution_count": 11,
   "id": "102c509c",
   "metadata": {},
   "outputs": [
    {
     "data": {
      "text/html": [
       "<div>\n",
       "<style scoped>\n",
       "    .dataframe tbody tr th:only-of-type {\n",
       "        vertical-align: middle;\n",
       "    }\n",
       "\n",
       "    .dataframe tbody tr th {\n",
       "        vertical-align: top;\n",
       "    }\n",
       "\n",
       "    .dataframe thead th {\n",
       "        text-align: right;\n",
       "    }\n",
       "</style>\n",
       "<table border=\"1\" class=\"dataframe\">\n",
       "  <thead>\n",
       "    <tr style=\"text-align: right;\">\n",
       "      <th></th>\n",
       "      <th>subreddit</th>\n",
       "      <th>tokens</th>\n",
       "      <th>title</th>\n",
       "    </tr>\n",
       "  </thead>\n",
       "  <tbody>\n",
       "    <tr>\n",
       "      <th>0</th>\n",
       "      <td>0</td>\n",
       "      <td>[Speed, runner, be, like, mihoyo, we, want, su...</td>\n",
       "      <td>Speed runner be like mihoyo we want sumeru now</td>\n",
       "    </tr>\n",
       "    <tr>\n",
       "      <th>1</th>\n",
       "      <td>0</td>\n",
       "      <td>[Somehow, got, c2, Raiden, and, Kujo, in, like...</td>\n",
       "      <td>Somehow got c2 Raiden and Kujo in like 50 60 ...</td>\n",
       "    </tr>\n",
       "    <tr>\n",
       "      <th>2</th>\n",
       "      <td>0</td>\n",
       "      <td>[Go, back, to, the, big, statue, after, main, ...</td>\n",
       "      <td>Go back to the big statue after main story st...</td>\n",
       "    </tr>\n",
       "    <tr>\n",
       "      <th>3</th>\n",
       "      <td>0</td>\n",
       "      <td>[What, is, with, this, game, s, story]</td>\n",
       "      <td>What is with this game s story</td>\n",
       "    </tr>\n",
       "    <tr>\n",
       "      <th>4</th>\n",
       "      <td>0</td>\n",
       "      <td>[Summer, Ayaka]</td>\n",
       "      <td>Summer Ayaka</td>\n",
       "    </tr>\n",
       "  </tbody>\n",
       "</table>\n",
       "</div>"
      ],
      "text/plain": [
       "   subreddit                                             tokens  \\\n",
       "0          0  [Speed, runner, be, like, mihoyo, we, want, su...   \n",
       "1          0  [Somehow, got, c2, Raiden, and, Kujo, in, like...   \n",
       "2          0  [Go, back, to, the, big, statue, after, main, ...   \n",
       "3          0             [What, is, with, this, game, s, story]   \n",
       "4          0                                    [Summer, Ayaka]   \n",
       "\n",
       "                                               title  \n",
       "0     Speed runner be like mihoyo we want sumeru now  \n",
       "1   Somehow got c2 Raiden and Kujo in like 50 60 ...  \n",
       "2   Go back to the big statue after main story st...  \n",
       "3                     What is with this game s story  \n",
       "4                                       Summer Ayaka  "
      ]
     },
     "execution_count": 11,
     "metadata": {},
     "output_type": "execute_result"
    }
   ],
   "source": [
    "df_full['subreddit'] = df_full['subreddit'].map({'Genshin_Impact': 0, 'honkaiimpact3': 1})\n",
    "df_full.head()"
   ]
  },
  {
   "cell_type": "markdown",
   "id": "b261046d",
   "metadata": {},
   "source": [
    "### Modelling"
   ]
  },
  {
   "cell_type": "code",
   "execution_count": 12,
   "id": "354ab090",
   "metadata": {},
   "outputs": [],
   "source": [
    "# Identify the X & y features\n",
    "X = df_full['title']\n",
    "y = df_full['subreddit']"
   ]
  },
  {
   "cell_type": "code",
   "execution_count": 13,
   "id": "7013dd22",
   "metadata": {},
   "outputs": [
    {
     "data": {
      "text/plain": [
       "(2200,)"
      ]
     },
     "execution_count": 13,
     "metadata": {},
     "output_type": "execute_result"
    }
   ],
   "source": [
    "X.shape"
   ]
  },
  {
   "cell_type": "code",
   "execution_count": 14,
   "id": "30c4af19",
   "metadata": {},
   "outputs": [
    {
     "data": {
      "text/plain": [
       "0    0.5\n",
       "1    0.5\n",
       "Name: subreddit, dtype: float64"
      ]
     },
     "execution_count": 14,
     "metadata": {},
     "output_type": "execute_result"
    }
   ],
   "source": [
    "y.value_counts(normalize=True)"
   ]
  },
  {
   "cell_type": "code",
   "execution_count": 15,
   "id": "c3664664",
   "metadata": {},
   "outputs": [],
   "source": [
    "# Split the data into the training and testing sets.\n",
    "X_train, X_test, y_train, y_test = train_test_split(X, y, test_size=0.5, stratify=y, random_state=10)"
   ]
  },
  {
   "cell_type": "markdown",
   "id": "f4dcf048",
   "metadata": {},
   "source": [
    "#### First Pipeline (CountVectorizer & RandomForestClassifer)"
   ]
  },
  {
   "cell_type": "code",
   "execution_count": 16,
   "id": "76cf55e1",
   "metadata": {},
   "outputs": [
    {
     "data": {
      "text/plain": [
       "0.7372727272727273"
      ]
     },
     "execution_count": 16,
     "metadata": {},
     "output_type": "execute_result"
    }
   ],
   "source": [
    "# Instantiate CountVectorizer & RandomForestClassifier pipeline\n",
    "pipe = Pipeline([\n",
    "    ('cvec', CountVectorizer(stop_words='english')),\n",
    "    ('rf', RandomForestClassifier(n_estimators=1000))\n",
    "])\n",
    "\n",
    "cross_val_score(pipe, X_train, y_train, cv=5).mean()"
   ]
  },
  {
   "cell_type": "code",
   "execution_count": 17,
   "id": "0dae17ac",
   "metadata": {},
   "outputs": [
    {
     "data": {
      "text/plain": [
       "Pipeline(steps=[('cvec', CountVectorizer(stop_words='english')),\n",
       "                ('rf', RandomForestClassifier(n_estimators=1000))])"
      ]
     },
     "execution_count": 17,
     "metadata": {},
     "output_type": "execute_result"
    }
   ],
   "source": [
    "# Fit the model\n",
    "pipe.fit(X_train, y_train)"
   ]
  },
  {
   "cell_type": "code",
   "execution_count": 18,
   "id": "95d5447c",
   "metadata": {},
   "outputs": [
    {
     "data": {
      "text/plain": [
       "0.99"
      ]
     },
     "execution_count": 18,
     "metadata": {},
     "output_type": "execute_result"
    }
   ],
   "source": [
    "# Training score\n",
    "pipe.score(X_train, y_train)"
   ]
  },
  {
   "cell_type": "code",
   "execution_count": 19,
   "id": "175a217a",
   "metadata": {},
   "outputs": [
    {
     "data": {
      "text/plain": [
       "0.7818181818181819"
      ]
     },
     "execution_count": 19,
     "metadata": {},
     "output_type": "execute_result"
    }
   ],
   "source": [
    "# Test score\n",
    "pipe.score(X_test, y_test)"
   ]
  },
  {
   "cell_type": "code",
   "execution_count": 20,
   "id": "39d4f489",
   "metadata": {},
   "outputs": [],
   "source": [
    "# Instantiate pipe parameters\n",
    "pipe_params = {\n",
    "    'cvec__max_features': [100_000_000]\n",
    "}"
   ]
  },
  {
   "cell_type": "code",
   "execution_count": 21,
   "id": "a48ef9ab",
   "metadata": {},
   "outputs": [],
   "source": [
    "# Instantiate GridSearchCV.\n",
    "gs = GridSearchCV(pipe,\n",
    "                  n_jobs = -1, \n",
    "                  param_grid=pipe_params, \n",
    "                  cv=5) \n"
   ]
  },
  {
   "cell_type": "code",
   "execution_count": 22,
   "id": "9c1525f4",
   "metadata": {},
   "outputs": [
    {
     "data": {
      "text/plain": [
       "GridSearchCV(cv=5,\n",
       "             estimator=Pipeline(steps=[('cvec',\n",
       "                                        CountVectorizer(stop_words='english')),\n",
       "                                       ('rf',\n",
       "                                        RandomForestClassifier(n_estimators=1000))]),\n",
       "             n_jobs=-1, param_grid={'cvec__max_features': [100000000]})"
      ]
     },
     "execution_count": 22,
     "metadata": {},
     "output_type": "execute_result"
    }
   ],
   "source": [
    "# Fit GridSearch to training data.\n",
    "gs.fit(X_train, y_train)"
   ]
  },
  {
   "cell_type": "code",
   "execution_count": 23,
   "id": "09250436",
   "metadata": {},
   "outputs": [
    {
     "name": "stdout",
     "output_type": "stream",
     "text": [
      "0.7436363636363637\n"
     ]
    }
   ],
   "source": [
    "# What's the best score?\n",
    "print(gs.best_score_)"
   ]
  },
  {
   "cell_type": "code",
   "execution_count": 24,
   "id": "ee387dd1",
   "metadata": {},
   "outputs": [
    {
     "data": {
      "text/plain": [
       "0.99"
      ]
     },
     "execution_count": 24,
     "metadata": {},
     "output_type": "execute_result"
    }
   ],
   "source": [
    "# Score model on training set\n",
    "gs.score(X_train, y_train)"
   ]
  },
  {
   "cell_type": "code",
   "execution_count": 25,
   "id": "d51ad160",
   "metadata": {},
   "outputs": [
    {
     "data": {
      "text/plain": [
       "0.7772727272727272"
      ]
     },
     "execution_count": 25,
     "metadata": {},
     "output_type": "execute_result"
    }
   ],
   "source": [
    "# Score model on testing set.\n",
    "gs.score(X_test, y_test)"
   ]
  },
  {
   "cell_type": "code",
   "execution_count": 26,
   "id": "d81d15a3",
   "metadata": {},
   "outputs": [
    {
     "name": "stdout",
     "output_type": "stream",
     "text": [
      "[0 1 1 ... 1 1 1]\n",
      "[[0.81569057 0.18430943]\n",
      " [0.46864874 0.53135126]\n",
      " [0.46664874 0.53335126]\n",
      " ...\n",
      " [0.46664874 0.53335126]\n",
      " [0.153      0.847     ]\n",
      " [0.04390571 0.95609429]]\n"
     ]
    }
   ],
   "source": [
    "# Get predictions\n",
    "preds = gs.predict(X_test)\n",
    "prob = gs.predict_proba(X_test)\n",
    "print(preds)\n",
    "print(prob)"
   ]
  },
  {
   "cell_type": "code",
   "execution_count": 27,
   "id": "ba149c5b",
   "metadata": {},
   "outputs": [
    {
     "name": "stdout",
     "output_type": "stream",
     "text": [
      "0.7772727272727272\n"
     ]
    }
   ],
   "source": [
    "print(accuracy_score(y_test, preds))"
   ]
  },
  {
   "cell_type": "code",
   "execution_count": 28,
   "id": "4ed09e11",
   "metadata": {},
   "outputs": [],
   "source": [
    "# Save confusion matrix values\n",
    "tn, fp, fn, tp = confusion_matrix(y_test, preds).ravel()"
   ]
  },
  {
   "cell_type": "code",
   "execution_count": 29,
   "id": "766e084e",
   "metadata": {},
   "outputs": [
    {
     "name": "stdout",
     "output_type": "stream",
     "text": [
      "True Negatives: 402\n",
      "False Positives: 148\n",
      "False Negatives: 97\n",
      "True Positives: 453\n"
     ]
    }
   ],
   "source": [
    "# Print results\n",
    "print(\"True Negatives: %s\" % tn)\n",
    "print(\"False Positives: %s\" % fp)\n",
    "print(\"False Negatives: %s\" % fn)\n",
    "print(\"True Positives: %s\" % tp)"
   ]
  },
  {
   "cell_type": "code",
   "execution_count": 30,
   "id": "6b76eaf6",
   "metadata": {},
   "outputs": [
    {
     "data": {
      "image/png": "[encoded data removed]",
      "text/plain": [
       "<Figure size 432x288 with 2 Axes>"
      ]
     },
     "metadata": {},
     "output_type": "display_data"
    }
   ],
   "source": [
    "# View confusion matrix\n",
    "\n",
    "plot_confusion_matrix(gs, X_test, y_test, cmap='Blues', values_format='d');\n",
    "plt.title(\"CountVectorizer & RandomForest - Test Results\")\n",
    "plt.xlabel('Predicted')\n",
    "plt.ylabel('True')\n",
    "plt.show()"
   ]
  },
  {
   "cell_type": "code",
   "execution_count": 31,
   "id": "cd42693c",
   "metadata": {},
   "outputs": [
    {
     "name": "stdout",
     "output_type": "stream",
     "text": [
      "Specificity: 0.730909090909091\n"
     ]
    }
   ],
   "source": [
    "# Calculate the specificity\n",
    "spec = tn / (tn + fp)\n",
    "print('Specificity:', spec)"
   ]
  },
  {
   "cell_type": "code",
   "execution_count": 32,
   "id": "fc49b01c",
   "metadata": {},
   "outputs": [
    {
     "name": "stdout",
     "output_type": "stream",
     "text": [
      "[0 1 1 ... 1 1 1]\n"
     ]
    }
   ],
   "source": [
    "print(preds)"
   ]
  },
  {
   "cell_type": "code",
   "execution_count": 33,
   "id": "3d2796f9",
   "metadata": {},
   "outputs": [
    {
     "name": "stdout",
     "output_type": "stream",
     "text": [
      "0.7772727272727272\n"
     ]
    }
   ],
   "source": [
    "print(accuracy_score(y_test, preds))"
   ]
  },
  {
   "cell_type": "code",
   "execution_count": 34,
   "id": "da67b743",
   "metadata": {},
   "outputs": [
    {
     "name": "stdout",
     "output_type": "stream",
     "text": [
      "Baseline: ROC AUC=0.500\n",
      "RandomForests: ROC AUC=0.867\n"
     ]
    },
    {
     "data": {
      "image/png": "[encoded data removed]",
      "text/plain": [
       "<Figure size 432x288 with 1 Axes>"
      ]
     },
     "metadata": {},
     "output_type": "display_data"
    }
   ],
   "source": [
    "# ROC Curve\n",
    "\n",
    "base_probs = [0 for _ in range(len(y_test))]\n",
    "model_probs = prob[:,1]\n",
    "\n",
    "# Calculate scores\n",
    "base_auc = roc_auc_score(y_test, base_probs)\n",
    "auc = roc_auc_score(y_test, model_probs)\n",
    "\n",
    "# Summarize scores\n",
    "print('Baseline: ROC AUC=%.3f' % (base_auc))\n",
    "print('RandomForests: ROC AUC=%.3f' % (auc))\n",
    "\n",
    "# Calculate roc curves\n",
    "base_fpr, base_tpr, _ = roc_curve(y_test, base_probs)\n",
    "model_fpr, model_tpr, _ = roc_curve(y_test, model_probs)\n",
    "\n",
    "# Plot roc curve for the model\n",
    "plt.plot(base_fpr, base_tpr, linestyle='--', label='Baseline')\n",
    "plt.plot(model_fpr, model_tpr, marker='.', label='RandomForests')\n",
    "\n",
    "# Title\n",
    "plt.title('RandomForests Test Results')\n",
    "\n",
    "# Axis labels\n",
    "plt.xlabel('False Positive')\n",
    "plt.ylabel('True Positive')\n",
    "\n",
    "# Legend\n",
    "plt.legend()\n",
    "\n",
    "plt.show()"
   ]
  },
  {
   "cell_type": "markdown",
   "id": "f5934b61",
   "metadata": {},
   "source": [
    "#### Second Pipeline (CountVectorizer & RandomForestClassifer)"
   ]
  },
  {
   "cell_type": "code",
   "execution_count": 35,
   "id": "f1c2feec",
   "metadata": {},
   "outputs": [
    {
     "data": {
      "text/plain": [
       "0.7790909090909091"
      ]
     },
     "execution_count": 35,
     "metadata": {},
     "output_type": "execute_result"
    }
   ],
   "source": [
    "# Instantiate CountVectorizer & LogisticRegression pipeline\n",
    "pipe = Pipeline([\n",
    "    ('cvec', CountVectorizer(stop_words='english')),\n",
    "    ('clf', MultinomialNB())\n",
    "])\n",
    "\n",
    "cross_val_score(pipe, X_train, y_train, cv=5).mean()"
   ]
  },
  {
   "cell_type": "code",
   "execution_count": 36,
   "id": "c07ef0ec",
   "metadata": {},
   "outputs": [
    {
     "data": {
      "text/plain": [
       "Pipeline(steps=[('cvec', CountVectorizer(stop_words='english')),\n",
       "                ('clf', MultinomialNB())])"
      ]
     },
     "execution_count": 36,
     "metadata": {},
     "output_type": "execute_result"
    }
   ],
   "source": [
    "# Fit the model\n",
    "pipe.fit(X_train, y_train)"
   ]
  },
  {
   "cell_type": "code",
   "execution_count": 37,
   "id": "f89c597b",
   "metadata": {},
   "outputs": [
    {
     "data": {
      "text/plain": [
       "0.9490909090909091"
      ]
     },
     "execution_count": 37,
     "metadata": {},
     "output_type": "execute_result"
    }
   ],
   "source": [
    "# Training score\n",
    "pipe.score(X_train, y_train)"
   ]
  },
  {
   "cell_type": "code",
   "execution_count": 38,
   "id": "6f4b82ea",
   "metadata": {},
   "outputs": [
    {
     "data": {
      "text/plain": [
       "0.8090909090909091"
      ]
     },
     "execution_count": 38,
     "metadata": {},
     "output_type": "execute_result"
    }
   ],
   "source": [
    "# Test score\n",
    "pipe.score(X_test, y_test)"
   ]
  },
  {
   "cell_type": "code",
   "execution_count": 39,
   "id": "4498650e",
   "metadata": {},
   "outputs": [],
   "source": [
    "# Instantiate pipe parameters\n",
    "\n",
    "pipe_params = {\n",
    "    'cvec__max_features': [100_000_000],\n",
    "}"
   ]
  },
  {
   "cell_type": "code",
   "execution_count": 40,
   "id": "092650f6",
   "metadata": {},
   "outputs": [],
   "source": [
    "# Instantiate GridSearchCV.\n",
    "\n",
    "gs = GridSearchCV(pipe, \n",
    "                  n_jobs = -1, \n",
    "                  param_grid=pipe_params, \n",
    "                  cv=5) # 5-fold cross-validation."
   ]
  },
  {
   "cell_type": "code",
   "execution_count": 41,
   "id": "f4ca9712",
   "metadata": {},
   "outputs": [
    {
     "data": {
      "text/plain": [
       "GridSearchCV(cv=5,\n",
       "             estimator=Pipeline(steps=[('cvec',\n",
       "                                        CountVectorizer(stop_words='english')),\n",
       "                                       ('clf', MultinomialNB())]),\n",
       "             n_jobs=-1, param_grid={'cvec__max_features': [100000000]})"
      ]
     },
     "execution_count": 41,
     "metadata": {},
     "output_type": "execute_result"
    }
   ],
   "source": [
    "# Fit GridSearch to training data.\n",
    "gs.fit(X_train, y_train)"
   ]
  },
  {
   "cell_type": "code",
   "execution_count": 42,
   "id": "ab7c00e8",
   "metadata": {},
   "outputs": [
    {
     "name": "stdout",
     "output_type": "stream",
     "text": [
      "0.7790909090909091\n"
     ]
    }
   ],
   "source": [
    "# What's the best score?\n",
    "print(gs.best_score_)"
   ]
  },
  {
   "cell_type": "code",
   "execution_count": 43,
   "id": "5f8c7e86",
   "metadata": {},
   "outputs": [
    {
     "data": {
      "text/plain": [
       "0.9490909090909091"
      ]
     },
     "execution_count": 43,
     "metadata": {},
     "output_type": "execute_result"
    }
   ],
   "source": [
    "# Score model on training set.\n",
    "gs.score(X_train, y_train)"
   ]
  },
  {
   "cell_type": "code",
   "execution_count": 44,
   "id": "83e687ed",
   "metadata": {},
   "outputs": [
    {
     "data": {
      "text/plain": [
       "0.8090909090909091"
      ]
     },
     "execution_count": 44,
     "metadata": {},
     "output_type": "execute_result"
    }
   ],
   "source": [
    "# Score model on testing set.\n",
    "gs.score(X_test, y_test)"
   ]
  },
  {
   "cell_type": "code",
   "execution_count": 45,
   "id": "2918774a",
   "metadata": {},
   "outputs": [
    {
     "name": "stdout",
     "output_type": "stream",
     "text": [
      "[0 0 0 ... 0 1 1]\n",
      "[[0.53922175 0.46077825]\n",
      " [0.67349552 0.32650448]\n",
      " [0.5        0.5       ]\n",
      " ...\n",
      " [0.5        0.5       ]\n",
      " [0.00109943 0.99890057]\n",
      " [0.00293801 0.99706199]]\n"
     ]
    }
   ],
   "source": [
    "# Get predictions\n",
    "preds = gs.predict(X_test)\n",
    "prob = gs.predict_proba(X_test)\n",
    "print(preds)\n",
    "print(prob)"
   ]
  },
  {
   "cell_type": "code",
   "execution_count": 46,
   "id": "82c74d06",
   "metadata": {},
   "outputs": [
    {
     "name": "stdout",
     "output_type": "stream",
     "text": [
      "0.8090909090909091\n"
     ]
    }
   ],
   "source": [
    "print(accuracy_score(y_test, preds))"
   ]
  },
  {
   "cell_type": "code",
   "execution_count": 47,
   "id": "88c2d9c6",
   "metadata": {},
   "outputs": [],
   "source": [
    "# Save confusion matrix values\n",
    "tn, fp, fn, tp = confusion_matrix(y_test, preds).ravel()"
   ]
  },
  {
   "cell_type": "code",
   "execution_count": 48,
   "id": "beb5ea2e",
   "metadata": {},
   "outputs": [
    {
     "name": "stdout",
     "output_type": "stream",
     "text": [
      "True Negatives: 451\n",
      "False Positives: 99\n",
      "False Negatives: 111\n",
      "True Positives: 439\n"
     ]
    }
   ],
   "source": [
    "# Print results\n",
    "print(\"True Negatives: %s\" % tn)\n",
    "print(\"False Positives: %s\" % fp)\n",
    "print(\"False Negatives: %s\" % fn)\n",
    "print(\"True Positives: %s\" % tp)"
   ]
  },
  {
   "cell_type": "code",
   "execution_count": 49,
   "id": "d452bced",
   "metadata": {},
   "outputs": [
    {
     "data": {
      "image/png": "[encoded data removed]",
      "text/plain": [
       "<Figure size 432x288 with 2 Axes>"
      ]
     },
     "metadata": {},
     "output_type": "display_data"
    }
   ],
   "source": [
    "# View confusion matrix\n",
    "\n",
    "plot_confusion_matrix(gs, X_test, y_test, cmap='Blues', values_format='d');\n",
    "plt.title(\"CountVectorizer & Multinomial Naive Bayes - Test Results\")\n",
    "plt.xlabel('Predicted')\n",
    "plt.ylabel('True')\n",
    "plt.show()"
   ]
  },
  {
   "cell_type": "code",
   "execution_count": 50,
   "id": "50fb6f98",
   "metadata": {},
   "outputs": [
    {
     "name": "stdout",
     "output_type": "stream",
     "text": [
      "Specificity: 0.82\n"
     ]
    }
   ],
   "source": [
    "# Calculate the specificity\n",
    "\n",
    "spec = tn / (tn + fp)\n",
    "\n",
    "print('Specificity:', spec)"
   ]
  },
  {
   "cell_type": "code",
   "execution_count": 51,
   "id": "50d299c6",
   "metadata": {},
   "outputs": [
    {
     "name": "stdout",
     "output_type": "stream",
     "text": [
      "[0 0 0 ... 0 1 1]\n"
     ]
    }
   ],
   "source": [
    "print(preds)"
   ]
  },
  {
   "cell_type": "code",
   "execution_count": 52,
   "id": "c25096df",
   "metadata": {},
   "outputs": [
    {
     "name": "stdout",
     "output_type": "stream",
     "text": [
      "0.8090909090909091\n"
     ]
    }
   ],
   "source": [
    "print(accuracy_score(y_test, preds))"
   ]
  },
  {
   "cell_type": "code",
   "execution_count": 53,
   "id": "e1376d20",
   "metadata": {},
   "outputs": [
    {
     "name": "stdout",
     "output_type": "stream",
     "text": [
      "Baseline: ROC AUC=0.500\n",
      "MultinomialNB: ROC AUC=0.904\n"
     ]
    },
    {
     "data": {
      "image/png": "[encoded data removed]",
      "text/plain": [
       "<Figure size 432x288 with 1 Axes>"
      ]
     },
     "metadata": {},
     "output_type": "display_data"
    }
   ],
   "source": [
    "# ROC Curve\n",
    "\n",
    "base_probs = [0 for _ in range(len(y_test))]\n",
    "model_probs = prob[:,1]\n",
    "\n",
    "# Calculate scores\n",
    "base_auc = roc_auc_score(y_test, base_probs)\n",
    "auc = roc_auc_score(y_test, model_probs)\n",
    "\n",
    "# Summarize scores\n",
    "print('Baseline: ROC AUC=%.3f' % (base_auc))\n",
    "print('MultinomialNB: ROC AUC=%.3f' % (auc))\n",
    "\n",
    "# Calculate roc curves\n",
    "base_fpr, base_tpr, _ = roc_curve(y_test, base_probs)\n",
    "model_fpr, model_tpr, _ = roc_curve(y_test, model_probs)\n",
    "\n",
    "# Plot roc curve for the model\n",
    "plt.plot(base_fpr, base_tpr, linestyle='--', label='Baseline')\n",
    "plt.plot(model_fpr, model_tpr, marker='.', label='MultinomialNB')\n",
    "\n",
    "# Title\n",
    "plt.title('Multinomial Naive Bayes Test Results')\n",
    "\n",
    "# Axis labels\n",
    "plt.xlabel('False Positive')\n",
    "plt.ylabel('True Positive')\n",
    "\n",
    "# Legend\n",
    "plt.legend()\n",
    "\n",
    "plt.show()"
   ]
  },
  {
   "cell_type": "code",
   "execution_count": null,
   "id": "de1833e3",
   "metadata": {},
   "outputs": [],
   "source": []
  }
 ],
 "metadata": {
  "kernelspec": {
   "display_name": "Python 3",
   "language": "python",
   "name": "python3"
  },
  "language_info": {
   "codemirror_mode": {
    "name": "ipython",
    "version": 3
   },
   "file_extension": ".py",
   "mimetype": "text/x-python",
   "name": "python",
   "nbconvert_exporter": "python",
   "pygments_lexer": "ipython3",
   "version": "3.8.8"
  }
 },
 "nbformat": 4,
 "nbformat_minor": 5
}
