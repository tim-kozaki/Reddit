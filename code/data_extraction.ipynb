{
 "cells": [
  {
   "cell_type": "markdown",
   "id": "865d03cf",
   "metadata": {},
   "source": [
    "## Scraping with Web API (PushShift.io)"
   ]
  },
  {
   "cell_type": "code",
   "execution_count": 1,
   "id": "c62868cd",
   "metadata": {},
   "outputs": [],
   "source": [
    "# Import libraries\n",
    "\n",
    "# Time delay for scraping\n",
    "import time\n",
    "from time import sleep\n",
    "\n",
    "# Scraping\n",
    "import requests"
   ]
  },
  {
   "cell_type": "code",
   "execution_count": 29,
   "id": "2ab63718",
   "metadata": {},
   "outputs": [],
   "source": [
    "# Function created to scrape sub-reddits with time delay\n",
    "def reddit_scrap(subreddit):\n",
    "    url = 'https://api.pushshift.io/reddit/search/submission'\n",
    "    df_load = []\n",
    "    params = {\n",
    "        'subreddit': subreddit,\n",
    "        'size' : 100,   # number of records to scrape per run\n",
    "        'before': None  # set timestamp here for specific timeframe\n",
    "    }\n",
    "    \n",
    "    # Print subreddit and hyperlink\n",
    "    print(f'Downloading - {subreddit}')\n",
    "    print(f'https://www.reddit.com/r/{subreddit}/')\n",
    "    print(f'-------------------------')\n",
    "    \n",
    "    # For loop to scrape from Reddit with time delay\n",
    "    for i in range(11):\n",
    "        res = requests.get(url,params)\n",
    "        data = res.json()\n",
    "        posts = data['data']\n",
    "        df_new = pd.DataFrame(posts)\n",
    "        df_load.append(df_new)\n",
    "        params['before'] = df_new['created_utc'][99]\n",
    "        df = pd.concat(df_load, ignore_index = True)\n",
    "        \n",
    "        # Export dataframe to csv\n",
    "        df.to_csv(f'../data/{subreddit}.csv', index=False)\n",
    "        \n",
    "        #time delay\n",
    "        time.sleep(2)\n",
    "        print(f'{i+1} Iterations completed')\n",
    "    "
   ]
  },
  {
   "cell_type": "code",
   "execution_count": 20,
   "id": "bd696926",
   "metadata": {},
   "outputs": [
    {
     "name": "stdout",
     "output_type": "stream",
     "text": [
      "Downloading - genshin_impact\n",
      "https://www.reddit.com/r/genshin_impact/\n",
      "1 Iterations completed\n",
      "2 Iterations completed\n",
      "3 Iterations completed\n",
      "4 Iterations completed\n",
      "5 Iterations completed\n",
      "6 Iterations completed\n",
      "7 Iterations completed\n",
      "8 Iterations completed\n",
      "9 Iterations completed\n",
      "10 Iterations completed\n",
      "11 Iterations completed\n"
     ]
    }
   ],
   "source": [
    "# Scraping sub-reddit Genshin Impact\n",
    "reddit_scrap('genshin_impact')"
   ]
  },
  {
   "cell_type": "code",
   "execution_count": 22,
   "id": "0c3257d5",
   "metadata": {},
   "outputs": [
    {
     "name": "stdout",
     "output_type": "stream",
     "text": [
      "Downloading - honkaiimpact3\n",
      "https://www.reddit.com/r/honkaiimpact3/\n",
      "-------------------------\n",
      "1 Iterations completed\n",
      "2 Iterations completed\n",
      "3 Iterations completed\n",
      "4 Iterations completed\n",
      "5 Iterations completed\n",
      "6 Iterations completed\n",
      "7 Iterations completed\n",
      "8 Iterations completed\n",
      "9 Iterations completed\n",
      "10 Iterations completed\n",
      "11 Iterations completed\n"
     ]
    }
   ],
   "source": [
    "# Scraping sub-reddit Honkai Impact3\n",
    "reddit_scrap('honkaiimpact3')"
   ]
  },
  {
   "cell_type": "code",
   "execution_count": 27,
   "id": "be7ec14f",
   "metadata": {},
   "outputs": [
    {
     "data": {
      "text/html": [
       "<div>\n",
       "<style scoped>\n",
       "    .dataframe tbody tr th:only-of-type {\n",
       "        vertical-align: middle;\n",
       "    }\n",
       "\n",
       "    .dataframe tbody tr th {\n",
       "        vertical-align: top;\n",
       "    }\n",
       "\n",
       "    .dataframe thead th {\n",
       "        text-align: right;\n",
       "    }\n",
       "</style>\n",
       "<table border=\"1\" class=\"dataframe\">\n",
       "  <thead>\n",
       "    <tr style=\"text-align: right;\">\n",
       "      <th></th>\n",
       "      <th>subreddit</th>\n",
       "      <th>title</th>\n",
       "      <th>selftext</th>\n",
       "    </tr>\n",
       "  </thead>\n",
       "  <tbody>\n",
       "    <tr>\n",
       "      <th>0</th>\n",
       "      <td>Genshin_Impact</td>\n",
       "      <td>Speed runner be like : mihoyo, we want sumeru ...</td>\n",
       "      <td>NaN</td>\n",
       "    </tr>\n",
       "    <tr>\n",
       "      <th>1</th>\n",
       "      <td>Genshin_Impact</td>\n",
       "      <td>Somehow got c2 Raiden and Kujo in like 50-60 p...</td>\n",
       "      <td>NaN</td>\n",
       "    </tr>\n",
       "    <tr>\n",
       "      <th>2</th>\n",
       "      <td>Genshin_Impact</td>\n",
       "      <td>Go back to the big statue after main story sto...</td>\n",
       "      <td>[removed]</td>\n",
       "    </tr>\n",
       "    <tr>\n",
       "      <th>3</th>\n",
       "      <td>Genshin_Impact</td>\n",
       "      <td>What is with this game’s story?</td>\n",
       "      <td>So in the middle of a questline about Baal, a....</td>\n",
       "    </tr>\n",
       "    <tr>\n",
       "      <th>4</th>\n",
       "      <td>Genshin_Impact</td>\n",
       "      <td>Summer Ayaka</td>\n",
       "      <td>NaN</td>\n",
       "    </tr>\n",
       "  </tbody>\n",
       "</table>\n",
       "</div>"
      ],
      "text/plain": [
       "        subreddit                                              title  \\\n",
       "0  Genshin_Impact  Speed runner be like : mihoyo, we want sumeru ...   \n",
       "1  Genshin_Impact  Somehow got c2 Raiden and Kujo in like 50-60 p...   \n",
       "2  Genshin_Impact  Go back to the big statue after main story sto...   \n",
       "3  Genshin_Impact                    What is with this game’s story?   \n",
       "4  Genshin_Impact                                       Summer Ayaka   \n",
       "\n",
       "                                            selftext  \n",
       "0                                                NaN  \n",
       "1                                                NaN  \n",
       "2                                          [removed]  \n",
       "3  So in the middle of a questline about Baal, a....  \n",
       "4                                                NaN  "
      ]
     },
     "execution_count": 27,
     "metadata": {},
     "output_type": "execute_result"
    }
   ],
   "source": [
    "# Import extracted data into a datframe\n",
    "df_gi = pd.read_csv('../data/genshin_impact.csv')\n",
    "df_gi[['subreddit', 'title', 'selftext']].head()"
   ]
  },
  {
   "cell_type": "code",
   "execution_count": 28,
   "id": "a6f9a549",
   "metadata": {},
   "outputs": [
    {
     "data": {
      "text/html": [
       "<div>\n",
       "<style scoped>\n",
       "    .dataframe tbody tr th:only-of-type {\n",
       "        vertical-align: middle;\n",
       "    }\n",
       "\n",
       "    .dataframe tbody tr th {\n",
       "        vertical-align: top;\n",
       "    }\n",
       "\n",
       "    .dataframe thead th {\n",
       "        text-align: right;\n",
       "    }\n",
       "</style>\n",
       "<table border=\"1\" class=\"dataframe\">\n",
       "  <thead>\n",
       "    <tr style=\"text-align: right;\">\n",
       "      <th></th>\n",
       "      <th>subreddit</th>\n",
       "      <th>title</th>\n",
       "      <th>selftext</th>\n",
       "    </tr>\n",
       "  </thead>\n",
       "  <tbody>\n",
       "    <tr>\n",
       "      <th>0</th>\n",
       "      <td>honkaiimpact3</td>\n",
       "      <td>Elf Sirin didn’t get to finish her ultimate 🙃</td>\n",
       "      <td>NaN</td>\n",
       "    </tr>\n",
       "    <tr>\n",
       "      <th>1</th>\n",
       "      <td>honkaiimpact3</td>\n",
       "      <td>Read this if you Want to See yandere mei or ot...</td>\n",
       "      <td>I think you'd like this story: \"Honkai Impact ...</td>\n",
       "    </tr>\n",
       "    <tr>\n",
       "      <th>2</th>\n",
       "      <td>honkaiimpact3</td>\n",
       "      <td>What the easiest way to get money ?</td>\n",
       "      <td>I just made Myself broke after using all my co...</td>\n",
       "    </tr>\n",
       "    <tr>\n",
       "      <th>3</th>\n",
       "      <td>honkaiimpact3</td>\n",
       "      <td>Should I use it for hoF? I only have (T) himeko</td>\n",
       "      <td>NaN</td>\n",
       "    </tr>\n",
       "    <tr>\n",
       "      <th>4</th>\n",
       "      <td>honkaiimpact3</td>\n",
       "      <td>Who should I go for?</td>\n",
       "      <td>I just failed to get hof so I was thinking who...</td>\n",
       "    </tr>\n",
       "  </tbody>\n",
       "</table>\n",
       "</div>"
      ],
      "text/plain": [
       "       subreddit                                              title  \\\n",
       "0  honkaiimpact3      Elf Sirin didn’t get to finish her ultimate 🙃   \n",
       "1  honkaiimpact3  Read this if you Want to See yandere mei or ot...   \n",
       "2  honkaiimpact3                What the easiest way to get money ?   \n",
       "3  honkaiimpact3    Should I use it for hoF? I only have (T) himeko   \n",
       "4  honkaiimpact3                               Who should I go for?   \n",
       "\n",
       "                                            selftext  \n",
       "0                                                NaN  \n",
       "1  I think you'd like this story: \"Honkai Impact ...  \n",
       "2  I just made Myself broke after using all my co...  \n",
       "3                                                NaN  \n",
       "4  I just failed to get hof so I was thinking who...  "
      ]
     },
     "execution_count": 28,
     "metadata": {},
     "output_type": "execute_result"
    }
   ],
   "source": [
    "# Import extracted data into a datframe\n",
    "df_hi = pd.read_csv('../data/honkaiimpact3.csv')\n",
    "df_hi[['subreddit', 'title', 'selftext']].head()"
   ]
  }
 ],
 "metadata": {
  "kernelspec": {
   "display_name": "Python 3",
   "language": "python",
   "name": "python3"
  },
  "language_info": {
   "codemirror_mode": {
    "name": "ipython",
    "version": 3
   },
   "file_extension": ".py",
   "mimetype": "text/x-python",
   "name": "python",
   "nbconvert_exporter": "python",
   "pygments_lexer": "ipython3",
   "version": "3.8.8"
  }
 },
 "nbformat": 4,
 "nbformat_minor": 5
}
